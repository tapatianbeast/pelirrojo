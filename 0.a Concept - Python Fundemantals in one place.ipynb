{
 "cells": [
  {
   "cell_type": "markdown",
   "metadata": {},
   "source": [
    "## PYTHON BASICS IN ONE HAPPY PLACE!"
   ]
  },
  {
   "cell_type": "code",
   "execution_count": 1,
   "metadata": {},
   "outputs": [
    {
     "name": "stdout",
     "output_type": "stream",
     "text": [
      "Enter Username: Ryan\n",
      "Password:········\n",
      "Access granted, Welcome to the system\n",
      "What's the time now [Use 24h format]? Insert Time between 8AM-3PM [8-15]?10\n",
      "You should attend: Programming Lecture, Room A\n",
      "\n",
      "Lecture Notes\n",
      "Date: 2016/10/25\n",
      "Professor: Mitch Robert\n",
      "Lecture 1: Programming Basics\n",
      "\n",
      "Coding Exercise #1\n",
      "kmh = int(input(\"Enter speed in km/h: \"))\n",
      "mph =  0.6214 * kmh\n",
      "print(\"Speed in Km per hour =\", kmh, \"KM/H\")\n",
      "print(\"Speed in Miles per hour =\", mph, \"MPH\")\n"
     ]
    }
   ],
   "source": [
    "import getpass\n",
    "username = \"Ryan\"\n",
    "password = \"ysk%123\"\n",
    "\n",
    "def day_planner(time_h_now):\n",
    "    daily_task    = {10: 'Programming Lecture, Room A',\n",
    "                     12: 'Computer Vision Lecture, Room C',\n",
    "                     13: 'Lunch @Cafeteria!',\n",
    "                     15: 'Group Project Meeting, Room E'}\n",
    "\n",
    "    for task_time in daily_task.keys():\n",
    "        if time_h_now <= task_time:\n",
    "            print('You should attend:', daily_task[task_time])\n",
    "            break\n",
    "        \n",
    "input_username = input(\"Enter Username: \")\n",
    "input_password = getpass.getpass('Password:')\n",
    "\n",
    "if username == input_username and input_password == password:\n",
    "    print(\"Access granted, Welcome to the system\")\n",
    "    time_h_now = float(input(\"What's the time now [Use 24h format]? Insert Time between 8AM-3PM [8-15]?\"))\n",
    "    \n",
    "    day_planner(time_h_now)\n",
    "    \n",
    "    myfile = open(\"Lecture_Notes.txt\")\n",
    "    print(myfile.read())\n",
    "\n",
    "else:\n",
    "    print(\"Username or password is not correct, access denied\")"
   ]
  },
  {
   "cell_type": "code",
   "execution_count": null,
   "metadata": {},
   "outputs": [],
   "source": []
  }
 ],
 "metadata": {
  "kernelspec": {
   "display_name": "Python 3",
   "language": "python",
   "name": "python3"
  },
  "language_info": {
   "codemirror_mode": {
    "name": "ipython",
    "version": 3
   },
   "file_extension": ".py",
   "mimetype": "text/x-python",
   "name": "python",
   "nbconvert_exporter": "python",
   "pygments_lexer": "ipython3",
   "version": "3.6.5"
  }
 },
 "nbformat": 4,
 "nbformat_minor": 2
}
